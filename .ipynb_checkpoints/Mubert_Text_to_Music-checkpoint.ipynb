{
 "cells": [
  {
   "cell_type": "markdown",
   "metadata": {
    "colab_type": "text",
    "id": "view-in-github"
   },
   "source": [
    "<a href=\"https://colab.research.google.com/github/ferluht/Mubert-Text-to-Music/blob/main/Mubert_Text_to_Music.ipynb\" target=\"_parent\"><img src=\"https://colab.research.google.com/assets/colab-badge.svg\" alt=\"Open In Colab\"/></a>"
   ]
  },
  {
   "cell_type": "markdown",
   "metadata": {
    "id": "gHJPhnu7Lg2v"
   },
   "source": [
    "# **Mubert Text to Music ✍ ➡ 🎹🎵🔊**\n",
    "\n",
    "A simple notebook demonstrating prompt-based music generation via [Mubert](https://mubert.com) [API](https://mubert2.docs.apiary.io/)"
   ]
  },
  {
   "cell_type": "code",
   "execution_count": 1,
   "metadata": {
    "cellView": "form",
    "id": "GPdDFKWVVnif"
   },
   "outputs": [
    {
     "name": "stdout",
     "output_type": "stream",
     "text": [
      "Setting up environment...\n"
     ]
    },
    {
     "name": "stderr",
     "output_type": "stream",
     "text": [
      "DEPRECATION: Configuring installation scheme with distutils config files is deprecated and will no longer work in the near future. If you are using a Homebrew or Linuxbrew Python, please see discussion at https://github.com/Homebrew/homebrew-core/issues/76621\n",
      "ERROR: Could not find a version that satisfies the requirement torch==1.12.1+cu113 (from versions: 1.7.1, 1.8.0, 1.8.1, 1.9.0, 1.9.1, 1.10.0, 1.10.1, 1.10.2, 1.11.0, 1.12.0, 1.12.1)\n",
      "ERROR: No matching distribution found for torch==1.12.1+cu113\n",
      "\n",
      "[notice] A new release of pip available: 22.2.2 -> 22.3\n",
      "[notice] To update, run: python3.9 -m pip install --upgrade pip\n",
      "DEPRECATION: Configuring installation scheme with distutils config files is deprecated and will no longer work in the near future. If you are using a Homebrew or Linuxbrew Python, please see discussion at https://github.com/Homebrew/homebrew-core/issues/76621\n",
      "DEPRECATION: Configuring installation scheme with distutils config files is deprecated and will no longer work in the near future. If you are using a Homebrew or Linuxbrew Python, please see discussion at https://github.com/Homebrew/homebrew-core/issues/76621\n",
      "\n",
      "[notice] A new release of pip available: 22.2.2 -> 22.3\n",
      "[notice] To update, run: python3.9 -m pip install --upgrade pip\n",
      "DEPRECATION: Configuring installation scheme with distutils config files is deprecated and will no longer work in the near future. If you are using a Homebrew or Linuxbrew Python, please see discussion at https://github.com/Homebrew/homebrew-core/issues/76621\n"
     ]
    },
    {
     "name": "stdout",
     "output_type": "stream",
     "text": [
      "Environment set up in 5 seconds\n"
     ]
    },
    {
     "name": "stderr",
     "output_type": "stream",
     "text": [
      "DEPRECATION: Configuring installation scheme with distutils config files is deprecated and will no longer work in the near future. If you are using a Homebrew or Linuxbrew Python, please see discussion at https://github.com/Homebrew/homebrew-core/issues/76621\n",
      "\n",
      "[notice] A new release of pip available: 22.2.2 -> 22.3\n",
      "[notice] To update, run: python3.9 -m pip install --upgrade pip\n"
     ]
    }
   ],
   "source": [
    "#@title **Setup Environment**\n",
    "\n",
    "import subprocess, time\n",
    "print(\"Setting up environment...\")\n",
    "start_time = time.time()\n",
    "all_process = [\n",
    "    ['pip', 'install', 'torch==1.12.1+cu113', 'torchvision==0.13.1+cu113', '--extra-index-url', 'https://download.pytorch.org/whl/cu113'],\n",
    "    ['pip', 'install', '-U', 'sentence-transformers'],\n",
    "    ['pip', 'install', 'httpx'],\n",
    "]\n",
    "for process in all_process:\n",
    "    running = subprocess.run(process,stdout=subprocess.PIPE).stdout.decode('utf-8')\n",
    "\n",
    "end_time = time.time()\n",
    "print(f\"Environment set up in {end_time-start_time:.0f} seconds\")"
   ]
  },
  {
   "cell_type": "code",
   "execution_count": 2,
   "metadata": {
    "cellView": "form",
    "id": "yW-3aTNYvKM_"
   },
   "outputs": [
    {
     "data": {
      "application/json": {
       "ascii": false,
       "bar_format": null,
       "colour": null,
       "elapsed": 0.03945493698120117,
       "initial": 0,
       "n": 0,
       "ncols": null,
       "nrows": 54,
       "postfix": null,
       "prefix": "Downloading",
       "rate": null,
       "total": 1175,
       "unit": "B",
       "unit_divisor": 1000,
       "unit_scale": true
      },
      "application/vnd.jupyter.widget-view+json": {
       "model_id": "b9fe996d5f7d4b839ecd23c12a7e562d",
       "version_major": 2,
       "version_minor": 0
      },
      "text/plain": [
       "Downloading:   0%|          | 0.00/1.18k [00:00<?, ?B/s]"
      ]
     },
     "metadata": {},
     "output_type": "display_data"
    },
    {
     "data": {
      "application/json": {
       "ascii": false,
       "bar_format": null,
       "colour": null,
       "elapsed": 0.018227338790893555,
       "initial": 0,
       "n": 0,
       "ncols": null,
       "nrows": 54,
       "postfix": null,
       "prefix": "Downloading",
       "rate": null,
       "total": 190,
       "unit": "B",
       "unit_divisor": 1000,
       "unit_scale": true
      },
      "application/vnd.jupyter.widget-view+json": {
       "model_id": "f81b1a1967ef4636ac92eac32a717127",
       "version_major": 2,
       "version_minor": 0
      },
      "text/plain": [
       "Downloading:   0%|          | 0.00/190 [00:00<?, ?B/s]"
      ]
     },
     "metadata": {},
     "output_type": "display_data"
    },
    {
     "data": {
      "application/json": {
       "ascii": false,
       "bar_format": null,
       "colour": null,
       "elapsed": 0.01857733726501465,
       "initial": 0,
       "n": 0,
       "ncols": null,
       "nrows": 54,
       "postfix": null,
       "prefix": "Downloading",
       "rate": null,
       "total": 10610,
       "unit": "B",
       "unit_divisor": 1000,
       "unit_scale": true
      },
      "application/vnd.jupyter.widget-view+json": {
       "model_id": "699f120bfb45485cb07f858f5bd60edf",
       "version_major": 2,
       "version_minor": 0
      },
      "text/plain": [
       "Downloading:   0%|          | 0.00/10.6k [00:00<?, ?B/s]"
      ]
     },
     "metadata": {},
     "output_type": "display_data"
    },
    {
     "data": {
      "application/json": {
       "ascii": false,
       "bar_format": null,
       "colour": null,
       "elapsed": 0.017646312713623047,
       "initial": 0,
       "n": 0,
       "ncols": null,
       "nrows": 54,
       "postfix": null,
       "prefix": "Downloading",
       "rate": null,
       "total": 612,
       "unit": "B",
       "unit_divisor": 1000,
       "unit_scale": true
      },
      "application/vnd.jupyter.widget-view+json": {
       "model_id": "9e63770878424577a0aa155f41b60433",
       "version_major": 2,
       "version_minor": 0
      },
      "text/plain": [
       "Downloading:   0%|          | 0.00/612 [00:00<?, ?B/s]"
      ]
     },
     "metadata": {},
     "output_type": "display_data"
    },
    {
     "data": {
      "application/json": {
       "ascii": false,
       "bar_format": null,
       "colour": null,
       "elapsed": 0.01728510856628418,
       "initial": 0,
       "n": 0,
       "ncols": null,
       "nrows": 54,
       "postfix": null,
       "prefix": "Downloading",
       "rate": null,
       "total": 116,
       "unit": "B",
       "unit_divisor": 1000,
       "unit_scale": true
      },
      "application/vnd.jupyter.widget-view+json": {
       "model_id": "c47ebc5355884de7b331ff5793121e23",
       "version_major": 2,
       "version_minor": 0
      },
      "text/plain": [
       "Downloading:   0%|          | 0.00/116 [00:00<?, ?B/s]"
      ]
     },
     "metadata": {},
     "output_type": "display_data"
    },
    {
     "data": {
      "application/json": {
       "ascii": false,
       "bar_format": null,
       "colour": null,
       "elapsed": 0.019145965576171875,
       "initial": 0,
       "n": 0,
       "ncols": null,
       "nrows": 54,
       "postfix": null,
       "prefix": "Downloading",
       "rate": null,
       "total": 39265,
       "unit": "B",
       "unit_divisor": 1000,
       "unit_scale": true
      },
      "application/vnd.jupyter.widget-view+json": {
       "model_id": "69023ddd98c24e05be06d7ddb7ead755",
       "version_major": 2,
       "version_minor": 0
      },
      "text/plain": [
       "Downloading:   0%|          | 0.00/39.3k [00:00<?, ?B/s]"
      ]
     },
     "metadata": {},
     "output_type": "display_data"
    },
    {
     "data": {
      "application/json": {
       "ascii": false,
       "bar_format": null,
       "colour": null,
       "elapsed": 0.020718097686767578,
       "initial": 0,
       "n": 0,
       "ncols": null,
       "nrows": 54,
       "postfix": null,
       "prefix": "Downloading",
       "rate": null,
       "total": 90888945,
       "unit": "B",
       "unit_divisor": 1000,
       "unit_scale": true
      },
      "application/vnd.jupyter.widget-view+json": {
       "model_id": "98efac56a30c49ca8622a9d46b90b074",
       "version_major": 2,
       "version_minor": 0
      },
      "text/plain": [
       "Downloading:   0%|          | 0.00/90.9M [00:00<?, ?B/s]"
      ]
     },
     "metadata": {},
     "output_type": "display_data"
    },
    {
     "data": {
      "application/json": {
       "ascii": false,
       "bar_format": null,
       "colour": null,
       "elapsed": 0.018236875534057617,
       "initial": 0,
       "n": 0,
       "ncols": null,
       "nrows": 54,
       "postfix": null,
       "prefix": "Downloading",
       "rate": null,
       "total": 53,
       "unit": "B",
       "unit_divisor": 1000,
       "unit_scale": true
      },
      "application/vnd.jupyter.widget-view+json": {
       "model_id": "7736e3c366d74950b1f66b9a6c9cb522",
       "version_major": 2,
       "version_minor": 0
      },
      "text/plain": [
       "Downloading:   0%|          | 0.00/53.0 [00:00<?, ?B/s]"
      ]
     },
     "metadata": {},
     "output_type": "display_data"
    },
    {
     "data": {
      "application/json": {
       "ascii": false,
       "bar_format": null,
       "colour": null,
       "elapsed": 0.018622875213623047,
       "initial": 0,
       "n": 0,
       "ncols": null,
       "nrows": 54,
       "postfix": null,
       "prefix": "Downloading",
       "rate": null,
       "total": 112,
       "unit": "B",
       "unit_divisor": 1000,
       "unit_scale": true
      },
      "application/vnd.jupyter.widget-view+json": {
       "model_id": "4fc1a066a1fc4fe98b3f0055f8bdd5e9",
       "version_major": 2,
       "version_minor": 0
      },
      "text/plain": [
       "Downloading:   0%|          | 0.00/112 [00:00<?, ?B/s]"
      ]
     },
     "metadata": {},
     "output_type": "display_data"
    },
    {
     "data": {
      "application/json": {
       "ascii": false,
       "bar_format": null,
       "colour": null,
       "elapsed": 0.019554853439331055,
       "initial": 0,
       "n": 0,
       "ncols": null,
       "nrows": 54,
       "postfix": null,
       "prefix": "Downloading",
       "rate": null,
       "total": 466247,
       "unit": "B",
       "unit_divisor": 1000,
       "unit_scale": true
      },
      "application/vnd.jupyter.widget-view+json": {
       "model_id": "9a7405230ff249f8883c154c94770242",
       "version_major": 2,
       "version_minor": 0
      },
      "text/plain": [
       "Downloading:   0%|          | 0.00/466k [00:00<?, ?B/s]"
      ]
     },
     "metadata": {},
     "output_type": "display_data"
    },
    {
     "data": {
      "application/json": {
       "ascii": false,
       "bar_format": null,
       "colour": null,
       "elapsed": 0.017560958862304688,
       "initial": 0,
       "n": 0,
       "ncols": null,
       "nrows": 54,
       "postfix": null,
       "prefix": "Downloading",
       "rate": null,
       "total": 350,
       "unit": "B",
       "unit_divisor": 1000,
       "unit_scale": true
      },
      "application/vnd.jupyter.widget-view+json": {
       "model_id": "683e6c848297448cbff23323063a4401",
       "version_major": 2,
       "version_minor": 0
      },
      "text/plain": [
       "Downloading:   0%|          | 0.00/350 [00:00<?, ?B/s]"
      ]
     },
     "metadata": {},
     "output_type": "display_data"
    },
    {
     "data": {
      "application/json": {
       "ascii": false,
       "bar_format": null,
       "colour": null,
       "elapsed": 0.01791214942932129,
       "initial": 0,
       "n": 0,
       "ncols": null,
       "nrows": 54,
       "postfix": null,
       "prefix": "Downloading",
       "rate": null,
       "total": 13156,
       "unit": "B",
       "unit_divisor": 1000,
       "unit_scale": true
      },
      "application/vnd.jupyter.widget-view+json": {
       "model_id": "e3bd5f98733543b18a60c6895359aeb1",
       "version_major": 2,
       "version_minor": 0
      },
      "text/plain": [
       "Downloading:   0%|          | 0.00/13.2k [00:00<?, ?B/s]"
      ]
     },
     "metadata": {},
     "output_type": "display_data"
    },
    {
     "data": {
      "application/json": {
       "ascii": false,
       "bar_format": null,
       "colour": null,
       "elapsed": 0.018763065338134766,
       "initial": 0,
       "n": 0,
       "ncols": null,
       "nrows": 54,
       "postfix": null,
       "prefix": "Downloading",
       "rate": null,
       "total": 231508,
       "unit": "B",
       "unit_divisor": 1000,
       "unit_scale": true
      },
      "application/vnd.jupyter.widget-view+json": {
       "model_id": "e0d3c5425eae4e8d9c62ec56f95b5138",
       "version_major": 2,
       "version_minor": 0
      },
      "text/plain": [
       "Downloading:   0%|          | 0.00/232k [00:00<?, ?B/s]"
      ]
     },
     "metadata": {},
     "output_type": "display_data"
    },
    {
     "data": {
      "application/json": {
       "ascii": false,
       "bar_format": null,
       "colour": null,
       "elapsed": 0.018272876739501953,
       "initial": 0,
       "n": 0,
       "ncols": null,
       "nrows": 54,
       "postfix": null,
       "prefix": "Downloading",
       "rate": null,
       "total": 349,
       "unit": "B",
       "unit_divisor": 1000,
       "unit_scale": true
      },
      "application/vnd.jupyter.widget-view+json": {
       "model_id": "38ba80adbcc24f6fb56637738d5b2260",
       "version_major": 2,
       "version_minor": 0
      },
      "text/plain": [
       "Downloading:   0%|          | 0.00/349 [00:00<?, ?B/s]"
      ]
     },
     "metadata": {},
     "output_type": "display_data"
    }
   ],
   "source": [
    "#@title **Define Mubert methods and pre-compute things**\n",
    "\n",
    "import numpy as np\n",
    "from sentence_transformers import SentenceTransformer\n",
    "minilm = SentenceTransformer('all-MiniLM-L6-v2')\n",
    "\n",
    "mubert_tags_string = 'tribal,action,kids,neo-classic,run 130,pumped,jazz / funk,ethnic,dubtechno,reggae,acid jazz,liquidfunk,funk,witch house,tech house,underground,artists,mystical,disco,sensorium,r&b,agender,psychedelic trance / psytrance,peaceful,run 140,piano,run 160,setting,meditation,christmas,ambient,horror,cinematic,electro house,idm,bass,minimal,underscore,drums,glitchy,beautiful,technology,tribal house,country pop,jazz & funk,documentary,space,classical,valentines,chillstep,experimental,trap,new jack swing,drama,post-rock,tense,corporate,neutral,happy,analog,funky,spiritual,sberzvuk special,chill hop,dramatic,catchy,holidays,fitness 90,optimistic,orchestra,acid techno,energizing,romantic,minimal house,breaks,hyper pop,warm up,dreamy,dark,urban,microfunk,dub,nu disco,vogue,keys,hardcore,aggressive,indie,electro funk,beauty,relaxing,trance,pop,hiphop,soft,acoustic,chillrave / ethno-house,deep techno,angry,dance,fun,dubstep,tropical,latin pop,heroic,world music,inspirational,uplifting,atmosphere,art,epic,advertising,chillout,scary,spooky,slow ballad,saxophone,summer,erotic,jazzy,energy 100,kara mar,xmas,atmospheric,indie pop,hip-hop,yoga,reggaeton,lounge,travel,running,folk,chillrave & ethno-house,detective,darkambient,chill,fantasy,minimal techno,special,night,tropical house,downtempo,lullaby,meditative,upbeat,glitch hop,fitness,neurofunk,sexual,indie rock,future pop,jazz,cyberpunk,melancholic,happy hardcore,family / kids,synths,electric guitar,comedy,psychedelic trance & psytrance,edm,psychedelic rock,calm,zen,bells,podcast,melodic house,ethnic percussion,nature,heavy,bassline,indie dance,techno,drumnbass,synth pop,vaporwave,sad,8-bit,chillgressive,deep,orchestral,futuristic,hardtechno,nostalgic,big room,sci-fi,tutorial,joyful,pads,minimal 170,drill,ethnic 108,amusing,sleepy ambient,psychill,italo disco,lofi,house,acoustic guitar,bassline house,rock,k-pop,synthwave,deep house,electronica,gabber,nightlife,sport & fitness,road trip,celebration,electro,disco house,electronic'\n",
    "mubert_tags = np.array(mubert_tags_string.split(','))\n",
    "mubert_tags_embeddings = minilm.encode(mubert_tags)\n",
    "\n",
    "from IPython.display import Audio, display\n",
    "import httpx\n",
    "import json\n",
    "\n",
    "def get_track_by_tags(tags, pat, duration, maxit=20, autoplay=False, loop=False):\n",
    "  if loop:\n",
    "    mode = \"loop\"\n",
    "  else:\n",
    "    mode = \"track\"\n",
    "  r = httpx.post('https://api-b2b.mubert.com/v2/RecordTrackTTM', \n",
    "      json={\n",
    "          \"method\":\"RecordTrackTTM\",\n",
    "          \"params\": {\n",
    "              \"pat\": pat, \n",
    "              \"duration\": duration,\n",
    "              \"tags\": tags,\n",
    "              \"mode\": mode\n",
    "          }\n",
    "      })\n",
    "\n",
    "  rdata = json.loads(r.text)\n",
    "  assert rdata['status'] == 1, rdata['error']['text']\n",
    "  trackurl = rdata['data']['tasks'][0]['download_link']\n",
    "\n",
    "  print('Generating track ', end='')\n",
    "  for i in range(maxit):\n",
    "      r = httpx.get(trackurl)\n",
    "      if r.status_code == 200:\n",
    "          display(Audio(trackurl, autoplay=autoplay))\n",
    "          break\n",
    "      time.sleep(1)\n",
    "      print('.', end='')\n",
    "\n",
    "def find_similar(em, embeddings, method='cosine'):\n",
    "    scores = []\n",
    "    for ref in embeddings:\n",
    "        if method == 'cosine': \n",
    "            scores.append(1 - np.dot(ref, em)/(np.linalg.norm(ref)*np.linalg.norm(em)))\n",
    "        if method == 'norm': \n",
    "            scores.append(np.linalg.norm(ref - em))\n",
    "    return np.array(scores), np.argsort(scores)\n",
    "\n",
    "def get_tags_for_prompts(prompts, top_n=3, debug=False):\n",
    "    prompts_embeddings = minilm.encode(prompts)\n",
    "    ret = []\n",
    "    for i, pe in enumerate(prompts_embeddings):\n",
    "        scores, idxs = find_similar(pe, mubert_tags_embeddings)\n",
    "        top_tags = mubert_tags[idxs[:top_n]]\n",
    "        top_prob = 1 - scores[idxs[:top_n]]\n",
    "        if debug:\n",
    "            print(f\"Prompt: {prompts[i]}\\nTags: {', '.join(top_tags)}\\nScores: {top_prob}\\n\\n\\n\")\n",
    "        ret.append((prompts[i], list(top_tags)))\n",
    "    return ret"
   ]
  },
  {
   "cell_type": "code",
   "execution_count": 3,
   "metadata": {
    "cellView": "form",
    "id": "a4ACdvWLRJ5U"
   },
   "outputs": [
    {
     "ename": "AssertionError",
     "evalue": "probably incorrect e-mail",
     "output_type": "error",
     "traceback": [
      "\u001b[0;31m---------------------------------------------------------------------------\u001b[0m",
      "\u001b[0;31mAssertionError\u001b[0m                            Traceback (most recent call last)",
      "\u001b[0;32m/var/folders/xf/pv1z4nt90wqc4t21ryyxrf5r0000gp/T/ipykernel_5190/3925430369.py\u001b[0m in \u001b[0;36m<module>\u001b[0;34m\u001b[0m\n\u001b[1;32m     14\u001b[0m \u001b[0;34m\u001b[0m\u001b[0m\n\u001b[1;32m     15\u001b[0m \u001b[0mrdata\u001b[0m \u001b[0;34m=\u001b[0m \u001b[0mjson\u001b[0m\u001b[0;34m.\u001b[0m\u001b[0mloads\u001b[0m\u001b[0;34m(\u001b[0m\u001b[0mr\u001b[0m\u001b[0;34m.\u001b[0m\u001b[0mtext\u001b[0m\u001b[0;34m)\u001b[0m\u001b[0;34m\u001b[0m\u001b[0;34m\u001b[0m\u001b[0m\n\u001b[0;32m---> 16\u001b[0;31m \u001b[0;32massert\u001b[0m \u001b[0mrdata\u001b[0m\u001b[0;34m[\u001b[0m\u001b[0;34m'status'\u001b[0m\u001b[0;34m]\u001b[0m \u001b[0;34m==\u001b[0m \u001b[0;36m1\u001b[0m\u001b[0;34m,\u001b[0m \u001b[0;34m\"probably incorrect e-mail\"\u001b[0m\u001b[0;34m\u001b[0m\u001b[0;34m\u001b[0m\u001b[0m\n\u001b[0m\u001b[1;32m     17\u001b[0m \u001b[0mpat\u001b[0m \u001b[0;34m=\u001b[0m \u001b[0mrdata\u001b[0m\u001b[0;34m[\u001b[0m\u001b[0;34m'data'\u001b[0m\u001b[0;34m]\u001b[0m\u001b[0;34m[\u001b[0m\u001b[0;34m'pat'\u001b[0m\u001b[0;34m]\u001b[0m\u001b[0;34m\u001b[0m\u001b[0;34m\u001b[0m\u001b[0m\n\u001b[1;32m     18\u001b[0m \u001b[0mprint\u001b[0m\u001b[0;34m(\u001b[0m\u001b[0;34mf'Got token: {pat}'\u001b[0m\u001b[0;34m)\u001b[0m\u001b[0;34m\u001b[0m\u001b[0;34m\u001b[0m\u001b[0m\n",
      "\u001b[0;31mAssertionError\u001b[0m: probably incorrect e-mail"
     ]
    }
   ],
   "source": [
    "#@markdown **Get personal access token in Mubert and define API methods**\n",
    "email = \"jp3stephens@gmail.com\" #@param {type:\"string\"}\n",
    "\n",
    "r = httpx.post('https://api-b2b.mubert.com/v2/GetServiceAccess', \n",
    "    json={\n",
    "        \"method\":\"GetServiceAccess\",\n",
    "        \"params\": {\n",
    "            \"email\": email,\n",
    "            \"license\":\"ttmmubertlicense#f0acYBenRcfeFpNT4wpYGaTQIyDI4mJGv5MfIhBFz97NXDwDNFHmMRsBSzmGsJwbTpP1A6i07AXcIeAHo5\",\n",
    "            \"token\":\"4951f6428e83172a4f39de05d5b3ab10d58560b8\",\n",
    "            \"mode\": \"loop\"\n",
    "        }\n",
    "    })\n",
    "\n",
    "rdata = json.loads(r.text)\n",
    "assert rdata['status'] == 1, \"probably incorrect e-mail\"\n",
    "pat = rdata['data']['pat']\n",
    "print(f'Got token: {pat}')"
   ]
  },
  {
   "cell_type": "code",
   "execution_count": null,
   "metadata": {
    "cellView": "form",
    "id": "hTf7sZcfbI0K"
   },
   "outputs": [],
   "source": [
    "#@title **Generate some music 🎵**\n",
    "\n",
    "prompt = 'vladimir lenin smoking weed with bob marley' #@param {type:\"string\"}\n",
    "duration = 30 #@param {type:\"number\"}\n",
    "loop = False #@param {type:\"boolean\"}\n",
    "\n",
    "def generate_track_by_prompt(prompt, duration, loop=False):\n",
    "  _, tags = get_tags_for_prompts([prompt,])[0]\n",
    "  try:\n",
    "    get_track_by_tags(tags, pat, duration, autoplay=True, loop=loop)\n",
    "  except Exception as e:\n",
    "    print(str(e))\n",
    "  print('\\n')\n",
    "\n",
    "generate_track_by_prompt(prompt, duration, loop)\n"
   ]
  },
  {
   "cell_type": "markdown",
   "metadata": {
    "id": "wSKTfub-bitp"
   },
   "source": [
    "### **Batch generation 🎶**"
   ]
  },
  {
   "cell_type": "code",
   "execution_count": null,
   "metadata": {
    "id": "BzrhcwIHXlg0"
   },
   "outputs": [],
   "source": [
    "duration = 60\n",
    "\n",
    "prompts = [\n",
    "    'kind beaver guards life tree, stan lee, epic',\n",
    "    'astronaut riding a horse',\n",
    "    'winnie the pooh cooking methamphetamine',\n",
    "    'vladimir lenin smoking weed with bob marley',\n",
    "    'soviet retrofuturism',\n",
    "    'two wasted friends high on weed are trying to navigate their way to their hostel in a big city, night, trippy',\n",
    "    'an elephant levitating on a gas balloon',\n",
    "    'calm music',\n",
    "    'a refrigerator floating in a pond'\n",
    "]\n",
    "\n",
    "tags = get_tags_for_prompts(prompts)\n",
    "\n",
    "for i, tag in enumerate(tags):\n",
    "  print(f'Prompt: {tag[0]}\\nTags: {tag[1]}')\n",
    "  try:\n",
    "    get_track_by_tags(tag[1], pat, duration, autoplay=False)\n",
    "  except Exception as e:\n",
    "    print(str(e))\n",
    "  print('\\n')"
   ]
  },
  {
   "cell_type": "code",
   "execution_count": 3,
   "metadata": {
    "id": "JieLk6kjZFai"
   },
   "outputs": [
    {
     "name": "stdout",
     "output_type": "stream",
     "text": [
      "hi\n"
     ]
    }
   ],
   "source": [
    "print('hi')"
   ]
  },
  {
   "cell_type": "code",
   "execution_count": null,
   "metadata": {},
   "outputs": [],
   "source": []
  }
 ],
 "metadata": {
  "colab": {
   "authorship_tag": "ABX9TyNRcUVF3ZzTw+oK4ortpcH+",
   "collapsed_sections": [],
   "include_colab_link": true,
   "provenance": [],
   "toc_visible": true
  },
  "kernelspec": {
   "display_name": "Python 3 (ipykernel)",
   "language": "python",
   "name": "python3"
  },
  "language_info": {
   "codemirror_mode": {
    "name": "ipython",
    "version": 3
   },
   "file_extension": ".py",
   "mimetype": "text/x-python",
   "name": "python",
   "nbconvert_exporter": "python",
   "pygments_lexer": "ipython3",
   "version": "3.9.14"
  }
 },
 "nbformat": 4,
 "nbformat_minor": 1
}
